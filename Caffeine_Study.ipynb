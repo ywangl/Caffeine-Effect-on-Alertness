{
  "nbformat": 4,
  "nbformat_minor": 0,
  "metadata": {
    "colab": {
      "name": "Caffeine Study.ipynb",
      "provenance": []
    },
    "kernelspec": {
      "display_name": "Python 3",
      "language": "python",
      "name": "python3"
    }
  },
  "cells": [
    {
      "cell_type": "code",
      "metadata": {
        "id": "kubS2puiNO0_",
        "colab_type": "code",
        "outputId": "1becc6a6-3a57-48f8-a091-cacdecd8cdf4",
        "colab": {
          "base_uri": "https://localhost:8080/",
          "height": 421
        }
      },
      "source": [
        "from IPython.display import Image\n",
        "from IPython.core.display import HTML \n",
        "Image(url= \"https://channongray.com/wp-content/uploads/2015/07/not-sure-if-meme-coffee.jpg\", width=400, height=400)\n",
        "\n",
        "\n",
        "      "
      ],
      "execution_count": 0,
      "outputs": [
        {
          "output_type": "execute_result",
          "data": {
            "text/html": [
              "<img src=\"https://channongray.com/wp-content/uploads/2015/07/not-sure-if-meme-coffee.jpg\" width=\"400\" height=\"400\"/>"
            ],
            "text/plain": [
              "<IPython.core.display.Image object>"
            ]
          },
          "metadata": {
            "tags": []
          },
          "execution_count": 29
        }
      ]
    },
    {
      "cell_type": "code",
      "metadata": {
        "id": "rXh_PTLF7HrB",
        "colab_type": "code",
        "colab": {}
      },
      "source": [
        ""
      ],
      "execution_count": 0,
      "outputs": []
    },
    {
      "cell_type": "code",
      "metadata": {
        "id": "UQysKyPFNO1H",
        "colab_type": "code",
        "colab": {}
      },
      "source": [
        "import pandas as pd\n",
        "import numpy as np\n",
        "import seaborn as sns\n",
        "import scipy.stats as stats\n",
        "import matplotlib.pyplot as plt; plt.rcdefaults()\n",
        "import math \n",
        "# set this so the plotting appears inline rather than in a new window\n",
        "%matplotlib inline"
      ],
      "execution_count": 0,
      "outputs": []
    },
    {
      "cell_type": "code",
      "metadata": {
        "id": "flEA3fh0NO1K",
        "colab_type": "code",
        "colab": {}
      },
      "source": [
        "from urllib.request import urlopen\n",
        "CE = pd.read_csv(\"https://github.com/ywangl/panda/blob/master/Caffiene%20Survey%20Results.csv?raw=TRUE\")\n",
        "      "
      ],
      "execution_count": 0,
      "outputs": []
    },
    {
      "cell_type": "code",
      "metadata": {
        "id": "vuE8399yNO1M",
        "colab_type": "code",
        "outputId": "658fdbb1-3294-46ef-85a8-15ccbccc6a63",
        "colab": {
          "base_uri": "https://localhost:8080/",
          "height": 153
        }
      },
      "source": [
        "list(CE)"
      ],
      "execution_count": 0,
      "outputs": [
        {
          "output_type": "execute_result",
          "data": {
            "text/plain": [
              "['Participant',\n",
              " 'Age',\n",
              " 'Gender',\n",
              " 'CaffieneIntake',\n",
              " 'RegularCaffieneUse',\n",
              " 'VerbalContributions',\n",
              " 'NoteTakingIntensity',\n",
              " 'Alertness']"
            ]
          },
          "metadata": {
            "tags": []
          },
          "execution_count": 5
        }
      ]
    },
    {
      "cell_type": "markdown",
      "metadata": {
        "id": "yod9hKXINO1P",
        "colab_type": "text"
      },
      "source": [
        "### a copy of the survey questions given to the students\n",
        "    I spoke often during this class.                 1 2 3 4 5\n",
        "    My class notes were very complete.               1 2 3 4 5\n",
        "    Today’s class was very interesting.              1 2 3 4 5\n",
        "    I am active in all of my classes in general.     1 2 3 4 5\n",
        "    I stayed very awake in class today.              1 2 3 4 5\n",
        "    I was very focused during this class.            1 2 3 4 5\n",
        "    I got an over 7-hours sleep last night.          1 2 3 4 5\n",
        "    I had caffeine in the past 8 hours.                 YES NO\n",
        "    I am a regular caffeine user. \n",
        "    (at least a cup a day most of the days)             YES NO"
      ]
    },
    {
      "cell_type": "code",
      "metadata": {
        "id": "dV418UVkNO1R",
        "colab_type": "code",
        "colab": {}
      },
      "source": [
        "CE['ClassParticipationScore'] = (CE.VerbalContributions + CE.NoteTakingIntensity + CE.Alertness)/3\n",
        "CE['Gender'].replace(1, 'Female',inplace=True)\n",
        "CE['Gender'].replace(0, 'Male',inplace=True)\n",
        "CE['CaffieneIntake'].replace(1, 'Yes',inplace=True)\n",
        "CE['CaffieneIntake'].replace(0, 'No',inplace=True)\n",
        "CE['RegularCaffieneUse'].replace(1, 'Yes',inplace=True)\n",
        "CE['RegularCaffieneUse'].replace(0, 'No',inplace=True)"
      ],
      "execution_count": 0,
      "outputs": []
    },
    {
      "cell_type": "code",
      "metadata": {
        "id": "15Wola9cNO1T",
        "colab_type": "code",
        "outputId": "1db465e3-0f35-446b-f7fe-5846d2e3deb3",
        "colab": {
          "base_uri": "https://localhost:8080/",
          "height": 204
        }
      },
      "source": [
        "CE.head()"
      ],
      "execution_count": 0,
      "outputs": [
        {
          "output_type": "execute_result",
          "data": {
            "text/html": [
              "<div>\n",
              "<style scoped>\n",
              "    .dataframe tbody tr th:only-of-type {\n",
              "        vertical-align: middle;\n",
              "    }\n",
              "\n",
              "    .dataframe tbody tr th {\n",
              "        vertical-align: top;\n",
              "    }\n",
              "\n",
              "    .dataframe thead th {\n",
              "        text-align: right;\n",
              "    }\n",
              "</style>\n",
              "<table border=\"1\" class=\"dataframe\">\n",
              "  <thead>\n",
              "    <tr style=\"text-align: right;\">\n",
              "      <th></th>\n",
              "      <th>Participant</th>\n",
              "      <th>Age</th>\n",
              "      <th>Gender</th>\n",
              "      <th>CaffieneIntake</th>\n",
              "      <th>RegularCaffieneUse</th>\n",
              "      <th>VerbalContributions</th>\n",
              "      <th>NoteTakingIntensity</th>\n",
              "      <th>Alertness</th>\n",
              "      <th>ClassParticipationScore</th>\n",
              "    </tr>\n",
              "  </thead>\n",
              "  <tbody>\n",
              "    <tr>\n",
              "      <th>0</th>\n",
              "      <td>1</td>\n",
              "      <td>19</td>\n",
              "      <td>Male</td>\n",
              "      <td>Yes</td>\n",
              "      <td>Yes</td>\n",
              "      <td>1</td>\n",
              "      <td>5</td>\n",
              "      <td>5</td>\n",
              "      <td>3.666667</td>\n",
              "    </tr>\n",
              "    <tr>\n",
              "      <th>1</th>\n",
              "      <td>2</td>\n",
              "      <td>19</td>\n",
              "      <td>Male</td>\n",
              "      <td>No</td>\n",
              "      <td>No</td>\n",
              "      <td>1</td>\n",
              "      <td>2</td>\n",
              "      <td>2</td>\n",
              "      <td>1.666667</td>\n",
              "    </tr>\n",
              "    <tr>\n",
              "      <th>2</th>\n",
              "      <td>3</td>\n",
              "      <td>20</td>\n",
              "      <td>Female</td>\n",
              "      <td>Yes</td>\n",
              "      <td>Yes</td>\n",
              "      <td>5</td>\n",
              "      <td>1</td>\n",
              "      <td>4</td>\n",
              "      <td>3.333333</td>\n",
              "    </tr>\n",
              "    <tr>\n",
              "      <th>3</th>\n",
              "      <td>4</td>\n",
              "      <td>18</td>\n",
              "      <td>Female</td>\n",
              "      <td>Yes</td>\n",
              "      <td>No</td>\n",
              "      <td>1</td>\n",
              "      <td>5</td>\n",
              "      <td>4</td>\n",
              "      <td>3.333333</td>\n",
              "    </tr>\n",
              "    <tr>\n",
              "      <th>4</th>\n",
              "      <td>5</td>\n",
              "      <td>20</td>\n",
              "      <td>Male</td>\n",
              "      <td>No</td>\n",
              "      <td>No</td>\n",
              "      <td>2</td>\n",
              "      <td>4</td>\n",
              "      <td>5</td>\n",
              "      <td>3.666667</td>\n",
              "    </tr>\n",
              "  </tbody>\n",
              "</table>\n",
              "</div>"
            ],
            "text/plain": [
              "   Participant  Age  Gender CaffieneIntake RegularCaffieneUse  \\\n",
              "0            1   19    Male            Yes                Yes   \n",
              "1            2   19    Male             No                 No   \n",
              "2            3   20  Female            Yes                Yes   \n",
              "3            4   18  Female            Yes                 No   \n",
              "4            5   20    Male             No                 No   \n",
              "\n",
              "   VerbalContributions  NoteTakingIntensity  Alertness  \\\n",
              "0                    1                    5          5   \n",
              "1                    1                    2          2   \n",
              "2                    5                    1          4   \n",
              "3                    1                    5          4   \n",
              "4                    2                    4          5   \n",
              "\n",
              "   ClassParticipationScore  \n",
              "0                 3.666667  \n",
              "1                 1.666667  \n",
              "2                 3.333333  \n",
              "3                 3.333333  \n",
              "4                 3.666667  "
            ]
          },
          "metadata": {
            "tags": []
          },
          "execution_count": 7
        }
      ]
    },
    {
      "cell_type": "code",
      "metadata": {
        "id": "gkBimbI0NO1X",
        "colab_type": "code",
        "outputId": "65485ff0-116b-4836-c01c-ea11c1c3787c",
        "colab": {
          "base_uri": "https://localhost:8080/",
          "height": 142
        }
      },
      "source": [
        "CE.groupby('CaffieneIntake').ClassParticipationScore.agg(['mean', 'min', 'max'])"
      ],
      "execution_count": 0,
      "outputs": [
        {
          "output_type": "execute_result",
          "data": {
            "text/html": [
              "<div>\n",
              "<style scoped>\n",
              "    .dataframe tbody tr th:only-of-type {\n",
              "        vertical-align: middle;\n",
              "    }\n",
              "\n",
              "    .dataframe tbody tr th {\n",
              "        vertical-align: top;\n",
              "    }\n",
              "\n",
              "    .dataframe thead th {\n",
              "        text-align: right;\n",
              "    }\n",
              "</style>\n",
              "<table border=\"1\" class=\"dataframe\">\n",
              "  <thead>\n",
              "    <tr style=\"text-align: right;\">\n",
              "      <th></th>\n",
              "      <th>mean</th>\n",
              "      <th>min</th>\n",
              "      <th>max</th>\n",
              "    </tr>\n",
              "    <tr>\n",
              "      <th>CaffieneIntake</th>\n",
              "      <th></th>\n",
              "      <th></th>\n",
              "      <th></th>\n",
              "    </tr>\n",
              "  </thead>\n",
              "  <tbody>\n",
              "    <tr>\n",
              "      <th>No</th>\n",
              "      <td>3.119048</td>\n",
              "      <td>1.0</td>\n",
              "      <td>5.0</td>\n",
              "    </tr>\n",
              "    <tr>\n",
              "      <th>Yes</th>\n",
              "      <td>3.219298</td>\n",
              "      <td>1.0</td>\n",
              "      <td>5.0</td>\n",
              "    </tr>\n",
              "  </tbody>\n",
              "</table>\n",
              "</div>"
            ],
            "text/plain": [
              "                    mean  min  max\n",
              "CaffieneIntake                    \n",
              "No              3.119048  1.0  5.0\n",
              "Yes             3.219298  1.0  5.0"
            ]
          },
          "metadata": {
            "tags": []
          },
          "execution_count": 8
        }
      ]
    },
    {
      "cell_type": "code",
      "metadata": {
        "id": "-wRhRzn-NO1b",
        "colab_type": "code",
        "outputId": "bfe5aea9-6292-46bf-94bd-eb5b22df5bef",
        "colab": {
          "base_uri": "https://localhost:8080/",
          "height": 312
        }
      },
      "source": [
        "sns.distplot(CE.ClassParticipationScore[CE.CaffieneIntake == 'Yes'], bins = np.linspace(0,5,20))\n",
        "sns.distplot(CE.ClassParticipationScore[CE.CaffieneIntake == 'No'], bins = np.linspace(0,5,20))\n",
        "plt.legend(['Yes','No'])\n",
        "plt.title('Distribution of the Class_Participation_Score')"
      ],
      "execution_count": 0,
      "outputs": [
        {
          "output_type": "execute_result",
          "data": {
            "text/plain": [
              "Text(0.5,1,'Distribution of the Class_Participation_Score')"
            ]
          },
          "metadata": {
            "tags": []
          },
          "execution_count": 9
        },
        {
          "output_type": "display_data",
          "data": {
            "image/png": "[encoded data removed]",
            "text/plain": [
              "<matplotlib.figure.Figure at 0x7f244f002358>"
            ]
          },
          "metadata": {
            "tags": []
          }
        }
      ]
    },
    {
      "cell_type": "code",
      "metadata": {
        "id": "x-OFAgBFQ7w5",
        "colab_type": "code",
        "colab": {}
      },
      "source": [
        "import plotly.plotly as py\n",
        "py.sign_in('adriennew', 'H6oL2PEJHxqc4FH9jYcY')\n",
        "import plotly.graph_objs as go\n",
        "from plotly.tools import FigureFactory as FF\n",
        "\n",
        "import numpy as np\n",
        "import pandas as pd\n",
        "import scipy"
      ],
      "execution_count": 0,
      "outputs": []
    },
    {
      "cell_type": "code",
      "metadata": {
        "id": "vXA5hg8_TbhU",
        "colab_type": "code",
        "outputId": "2ffec42e-d921-4a2a-cd8b-a23e0fe815cd",
        "colab": {
          "base_uri": "https://localhost:8080/",
          "height": 34
        }
      },
      "source": [
        "Image(url= \"https://github.com/ywangl/panda/blob/master/Screen%20Shot%202018-12-03%20at%208.38.17%20AM.png\")"
      ],
      "execution_count": 0,
      "outputs": [
        {
          "output_type": "execute_result",
          "data": {
            "text/html": [
              "<img src=\"https://github.com/ywangl/panda/blob/master/Screen%20Shot%202018-12-03%20at%208.38.17%20AM.png\"/>"
            ],
            "text/plain": [
              "<IPython.core.display.Image object>"
            ]
          },
          "metadata": {
            "tags": []
          },
          "execution_count": 39
        }
      ]
    },
    {
      "cell_type": "code",
      "metadata": {
        "id": "ihBZYjc3Q8rr",
        "colab_type": "code",
        "outputId": "26119ffc-c770-4b34-d314-c70ef109d19e",
        "colab": {
          "base_uri": "https://localhost:8080/",
          "height": 168
        }
      },
      "source": [
        "data1 = CE.ClassParticipationScore[CE.CaffieneIntake == 'Yes']\n",
        "data2 = CE.ClassParticipationScore[CE.CaffieneIntake == 'No']\n",
        "twosample_results = scipy.stats.ttest_ind(data1, data2)\n",
        "\n",
        "matrix_twosample = [\n",
        "    ['', 'Test Statistic', 'p-value'],\n",
        "    ['Sample Data', twosample_results[0], twosample_results[1]]\n",
        "]\n",
        "\n",
        "twosample_table = FF.create_table(matrix_twosample, index=True)\n",
        "py.iplot(twosample_table, filename='twosample-table')"
      ],
      "execution_count": 0,
      "outputs": [
        {
          "output_type": "stream",
          "text": [
            "High five! You successfully sent some data to your account on plotly. View your plot in your browser at https://plot.ly/~adriennew/0 or inside your plot.ly account where it is named 'twosample-table'\n"
          ],
          "name": "stdout"
        },
        {
          "output_type": "execute_result",
          "data": {
            "text/html": [
              "<iframe id=\"igraph\" scrolling=\"no\" style=\"border:none;\" seamless=\"seamless\" src=\"https://plot.ly/~adriennew/0.embed\" height=\"110px\" width=\"100%\"></iframe>"
            ],
            "text/plain": [
              "<plotly.tools.PlotlyDisplay object>"
            ]
          },
          "metadata": {
            "tags": []
          },
          "execution_count": 26
        }
      ]
    },
    {
      "cell_type": "code",
      "metadata": {
        "id": "PPLRt7GvNO1e",
        "colab_type": "code",
        "outputId": "d0038ec8-10b8-4d4f-a2f8-92b87afb91a6",
        "colab": {
          "base_uri": "https://localhost:8080/",
          "height": 34
        }
      },
      "source": [
        "np.random.seed(12345678)\n",
        "CaffieneIntake = stats.poisson.rvs(loc=1, mu=3.219298, size=38)\n",
        "No_CaffieneIntake = stats.poisson.rvs(loc=1, mu=3.119048, size=28)\n",
        "stats.ttest_ind(CaffieneIntake, No_CaffieneIntake, equal_var=False) "
      ],
      "execution_count": 0,
      "outputs": [
        {
          "output_type": "execute_result",
          "data": {
            "text/plain": [
              "Ttest_indResult(statistic=-0.964040720524348, pvalue=0.3387530743317102)"
            ]
          },
          "metadata": {
            "tags": []
          },
          "execution_count": 15
        }
      ]
    },
    {
      "cell_type": "markdown",
      "metadata": {
        "id": "QTvFlhBENO1i",
        "colab_type": "text"
      },
      "source": [
        "A larger than 0.05 p-value was found thus we fail to reject the null hypotheis. Therefore, there isn't a significant difference between the two groups."
      ]
    },
    {
      "cell_type": "code",
      "metadata": {
        "id": "NhUPq4SsNO1i",
        "colab_type": "code",
        "outputId": "da53625f-5f92-4899-f6ff-218ef7a65d52",
        "colab": {}
      },
      "source": [
        "from IPython.display import Image\n",
        "from IPython.core.display import HTML \n",
        "Image(url= \"https://channongray.com/wp-content/uploads/2015/07/not-sure-if-meme-coffee.jpg\", width=400, height=400)"
      ],
      "execution_count": 0,
      "outputs": [
        {
          "output_type": "execute_result",
          "data": {
            "text/html": [
              "<img src=\"https://channongray.com/wp-content/uploads/2015/07/not-sure-if-meme-coffee.jpg\" width=\"400\" height=\"400\"/>"
            ],
            "text/plain": [
              "<IPython.core.display.Image object>"
            ]
          },
          "metadata": {
            "tags": []
          },
          "execution_count": 29
        }
      ]
    },
    {
      "cell_type": "markdown",
      "metadata": {
        "id": "2DZYvDmTNO1m",
        "colab_type": "text"
      },
      "source": [
        "# Maybe NOT ENOUGH COFFEE gives us a headache! "
      ]
    },
    {
      "cell_type": "markdown",
      "metadata": {
        "id": "JRXFHxxiNO1n",
        "colab_type": "text"
      },
      "source": [
        "###### 5 participants who don't have regular caffiene use and 5 other participants who have regular caffiene use from the no-caffiene Intake group were randomly selected to study the caffeine withdrawal symptom"
      ]
    },
    {
      "cell_type": "code",
      "metadata": {
        "id": "H6xTpBnINO1q",
        "colab_type": "code",
        "outputId": "3e34b488-97ba-4d87-b32e-882dd7021735",
        "colab": {}
      },
      "source": [
        "CE2 = [['8',4.3333333, 'Yes'],['10',5,'No'],['12',2.3333333, 'Yes'], ['23',4.6666666, 'No'], ['29',4, 'Yes'], ['33',4.3333333, 'No'], ['38',2.6666666, 'Yes'], ['55',4.3333333, 'No'], ['64',3.3333333, 'Yes'], ['65',4.3333333, 'No']]\n",
        "df = pd.DataFrame(CE2,columns=['Participant','ClassParticipationScore', 'RegularCaffieneUse']) \n",
        "print (df) "
      ],
      "execution_count": 0,
      "outputs": [
        {
          "output_type": "stream",
          "text": [
            "  Participant  ClassParticipationScore RegularCaffieneUse\n",
            "0           8                 4.333333                Yes\n",
            "1          10                 5.000000                 No\n",
            "2          12                 2.333333                Yes\n",
            "3          23                 4.666667                 No\n",
            "4          29                 4.000000                Yes\n",
            "5          33                 4.333333                 No\n",
            "6          38                 2.666667                Yes\n",
            "7          55                 4.333333                 No\n",
            "8          64                 3.333333                Yes\n",
            "9          65                 4.333333                 No\n"
          ],
          "name": "stdout"
        }
      ]
    },
    {
      "cell_type": "code",
      "metadata": {
        "id": "EglNwYUCNO1u",
        "colab_type": "code",
        "outputId": "3249953f-561f-4d55-9828-a3a9841838f3",
        "colab": {}
      },
      "source": [
        "Regular_Caffiene_Use = ('Regular_Caffiene_Use_Group', 'Non-Regular_Caffiene_Use_Group')\n",
        "y_pos = np.arange(len(Regular_Caffiene_Use))\n",
        "Class_Participation_Score = [3.333333,4.533333]\n",
        " \n",
        "plt.bar(y_pos, Class_Participation_Score, align='center', alpha=0.5)\n",
        "plt.xticks(y_pos, Regular_Caffiene_Use)\n",
        "plt.ylabel('Class_Participation_Score')\n",
        "plt.title('Mean of Class_Participation_Score in 10 samples from No_Caffiene_Use_Group')\n",
        " \n",
        "plt.show()"
      ],
      "execution_count": 0,
      "outputs": [
        {
          "output_type": "display_data",
          "data": {
            "image/png": "[encoded data removed]",
            "text/plain": [
              "<Figure size 432x288 with 1 Axes>"
            ]
          },
          "metadata": {
            "tags": []
          }
        }
      ]
    },
    {
      "cell_type": "markdown",
      "metadata": {
        "id": "qOA2caiUNO10",
        "colab_type": "text"
      },
      "source": [
        "###### It seems like there is withdrawal effect in the non-caffiene group. People perform worse without coffee if they are regular coffee drinkers."
      ]
    }
  ]
}